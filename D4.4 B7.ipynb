{
 "cells": [
  {
   "cell_type": "markdown",
   "metadata": {},
   "source": [
    "# calculator addition, substraction, multiplication, division\n",
    "#using function along with if elif else"
   ]
  },
  {
   "cell_type": "code",
   "execution_count": 23,
   "metadata": {},
   "outputs": [
    {
     "name": "stdout",
     "output_type": "stream",
     "text": [
      "Please select operation -\n",
      "1. Add\n",
      "2. Subtract\n",
      "3. Multiply\n",
      "4. Divide\n",
      "\n"
     ]
    },
    {
     "name": "stdin",
     "output_type": "stream",
     "text": [
      "Select operations form 1, 2, 3, 4 : 5\n",
      "Enter first number:  2\n",
      "Enter second number:  2\n"
     ]
    },
    {
     "name": "stdout",
     "output_type": "stream",
     "text": [
      "choose proper option within 1,2,3,4\n"
     ]
    }
   ],
   "source": [
    "def add(x,y):\n",
    "    print(x + y)\n",
    "\n",
    "def sub(x,y):\n",
    "    print(x - y)\n",
    "\n",
    "def mul(x,y):\n",
    "    print(x * y)\n",
    "\n",
    "def div(x,y):\n",
    "    print(x % y)\n",
    "    \n",
    "print(\"Please select operation -\\n\"  \"1. Add\\n\" \"2. Subtract\\n\" \"3. Multiply\\n\"  \"4. Divide\\n\") \n",
    "\n",
    "choise = int(input(\"Select operations form 1, 2, 3, 4 :\")) \n",
    "\n",
    "a = int(input(\"Enter first number: \")) \n",
    "b = int(input(\"Enter second number: \")) \n",
    "\n",
    "if choise == 1:\n",
    "    add(a,b)\n",
    "elif choise == 2:\n",
    "    sub(a,b)\n",
    "elif choise == 3:\n",
    "    mul(a,b)\n",
    "elif choise == 4:\n",
    "    div(a,b)\n",
    "else:\n",
    "    pass\n",
    "    print(\"choose proper option within 1,2,3,4\")"
   ]
  },
  {
   "cell_type": "code",
   "execution_count": null,
   "metadata": {},
   "outputs": [],
   "source": []
  }
 ],
 "metadata": {
  "kernelspec": {
   "display_name": "Python 2",
   "language": "python",
   "name": "python2"
  },
  "language_info": {
   "codemirror_mode": {
    "name": "ipython",
    "version": 2
   },
   "file_extension": ".py",
   "mimetype": "text/x-python",
   "name": "python",
   "nbconvert_exporter": "python",
   "pygments_lexer": "ipython2",
   "version": "2.7.18"
  }
 },
 "nbformat": 4,
 "nbformat_minor": 2
}
