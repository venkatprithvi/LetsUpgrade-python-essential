{
 "cells": [
  {
   "cell_type": "markdown",
   "metadata": {},
   "source": [
    "Print first armstrong number that comes firts between 1042000  and 702648265\n",
    "and exit the loop as soon as we encounter first armstrong number"
   ]
  },
  {
   "cell_type": "code",
   "execution_count": 9,
   "metadata": {},
   "outputs": [
    {
     "name": "stdout",
     "output_type": "stream",
     "text": [
      "('for loop', 152)\n",
      "('digit :', 2)\n",
      "('sum', 8)\n",
      "15\n",
      "('digit :', 5)\n",
      "('sum', 133)\n",
      "1\n",
      "('digit :', 1)\n",
      "('sum', 134)\n",
      "0\n",
      "('for loop', 153)\n",
      "('digit :', 3)\n",
      "('sum', 27)\n",
      "15\n",
      "('digit :', 5)\n",
      "('sum', 152)\n",
      "1\n",
      "('digit :', 1)\n",
      "('sum', 153)\n",
      "0\n",
      "('armstrong number', 153)\n"
     ]
    }
   ],
   "source": [
    "\n",
    "\n",
    "for item in range(152,154):\n",
    "    print(\"for loop\", item)\n",
    "    item1 = item\n",
    "    sum = 0\n",
    "    while item1 != 0:\n",
    "        num1 = item1 % 10\n",
    "        print(\"digit :\",num1)\n",
    "        sum += num1*num1*num1\n",
    "        print(\"sum\",sum)\n",
    "        num2 = item1/10\n",
    "        print(num2)\n",
    "        item1 = num2\n",
    "        if sum == item:\n",
    "            print(\"armstrong number\", sum)\n",
    "            #continue\n",
    "    #pass\n",
    "    #break"
   ]
  },
  {
   "cell_type": "code",
   "execution_count": null,
   "metadata": {},
   "outputs": [],
   "source": []
  }
 ],
 "metadata": {
  "kernelspec": {
   "display_name": "Python 2",
   "language": "python",
   "name": "python2"
  },
  "language_info": {
   "codemirror_mode": {
    "name": "ipython",
    "version": 2
   },
   "file_extension": ".py",
   "mimetype": "text/x-python",
   "name": "python",
   "nbconvert_exporter": "python",
   "pygments_lexer": "ipython2",
   "version": "2.7.18"
  }
 },
 "nbformat": 4,
 "nbformat_minor": 2
}
