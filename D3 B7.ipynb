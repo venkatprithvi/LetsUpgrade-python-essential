{
 "cells": [
  {
   "cell_type": "markdown",
   "metadata": {},
   "source": [
    "#Question 1\n",
    "You all are Pilots, you want to land a plane safely, \n",
    "so altitude required for landing a plane \n",
    "is 1000ft, if it is less than tell pilot to land the plane,\n",
    "or it is more than that but less than 5000ft askthe \n",
    "pilot to “come down to 1000ft”, else if it more than 5000ft ask the pilot to “go around \n",
    "and trylater”\n",
    "Example : \n",
    "    Input - 1000\n",
    "    Output - Safe to Land\n",
    "Example : Input - 4500\n",
    "    Output - Bring down to 1000\n",
    "Example : Input - 6500\n",
    "    Output - Turn Around"
   ]
  },
  {
   "cell_type": "code",
   "execution_count": 17,
   "metadata": {},
   "outputs": [
    {
     "name": "stdin",
     "output_type": "stream",
     "text": [
      "Please provide the altitude ft 1000\n"
     ]
    },
    {
     "name": "stdout",
     "output_type": "stream",
     "text": [
      "('come down to less then 1000ft - you are at', 1000)\n"
     ]
    }
   ],
   "source": [
    "altitudevalue = int(input(\"Please provide the altitude ft\"))\n",
    "if altitudevalue < 1000:\n",
    "    print(\"Land the plane - you are at\", altitudevalue)\n",
    "elif altitudevalue >=1000 and altitudevalue <= 5000:\n",
    "    print(\"come down to less then 1000ft - you are at\", altitudevalue)\n",
    "elif altitudevalue >=5000:\n",
    "    print(\"go around and try - you are at\", altitudevalue)"
   ]
  },
  {
   "cell_type": "code",
   "execution_count": null,
   "metadata": {},
   "outputs": [],
   "source": [
    "\n"
   ]
  },
  {
   "cell_type": "markdown",
   "metadata": {},
   "source": [
    "Question 2\n",
    "Using for loop please print all the prime numbers\n",
    "between 1- 200 \n",
    "using FOR LOOP AND RANGEfunction.\n",
    "\n",
    "Output-2,3,5,7...."
   ]
  },
  {
   "cell_type": "code",
   "execution_count": 31,
   "metadata": {},
   "outputs": [
    {
     "name": "stdout",
     "output_type": "stream",
     "text": [
      "trying to print all prime numbers in between 1-200\n",
      "('even value :', 2)\n",
      "('even value :', 4)\n",
      "('even value :', 6)\n",
      "('even value :', 8)\n",
      "('even value :', 10)\n",
      "('even value :', 12)\n",
      "('even value :', 14)\n",
      "('even value :', 16)\n",
      "('even value :', 18)\n",
      "('even value :', 20)\n",
      "('even value :', 22)\n",
      "('even value :', 24)\n",
      "('even value :', 26)\n",
      "('even value :', 28)\n",
      "('even value :', 30)\n",
      "('even value :', 32)\n",
      "('even value :', 34)\n",
      "('even value :', 36)\n",
      "('even value :', 38)\n",
      "('even value :', 40)\n",
      "('even value :', 42)\n",
      "('even value :', 44)\n",
      "('even value :', 46)\n",
      "('even value :', 48)\n",
      "('even value :', 50)\n",
      "('even value :', 52)\n",
      "('even value :', 54)\n",
      "('even value :', 56)\n",
      "('even value :', 58)\n",
      "('even value :', 60)\n",
      "('even value :', 62)\n",
      "('even value :', 64)\n",
      "('even value :', 66)\n",
      "('even value :', 68)\n",
      "('even value :', 70)\n",
      "('even value :', 72)\n",
      "('even value :', 74)\n",
      "('even value :', 76)\n",
      "('even value :', 78)\n",
      "('even value :', 80)\n",
      "('even value :', 82)\n",
      "('even value :', 84)\n",
      "('even value :', 86)\n",
      "('even value :', 88)\n",
      "('even value :', 90)\n",
      "('even value :', 92)\n",
      "('even value :', 94)\n",
      "('even value :', 96)\n",
      "('even value :', 98)\n",
      "('even value :', 100)\n",
      "('even value :', 102)\n",
      "('even value :', 104)\n",
      "('even value :', 106)\n",
      "('even value :', 108)\n",
      "('even value :', 110)\n",
      "('even value :', 112)\n",
      "('even value :', 114)\n",
      "('even value :', 116)\n",
      "('even value :', 118)\n",
      "('even value :', 120)\n",
      "('even value :', 122)\n",
      "('even value :', 124)\n",
      "('even value :', 126)\n",
      "('even value :', 128)\n",
      "('even value :', 130)\n",
      "('even value :', 132)\n",
      "('even value :', 134)\n",
      "('even value :', 136)\n",
      "('even value :', 138)\n",
      "('even value :', 140)\n",
      "('even value :', 142)\n",
      "('even value :', 144)\n",
      "('even value :', 146)\n",
      "('even value :', 148)\n",
      "('even value :', 150)\n",
      "('even value :', 152)\n",
      "('even value :', 154)\n",
      "('even value :', 156)\n",
      "('even value :', 158)\n",
      "('even value :', 160)\n",
      "('even value :', 162)\n",
      "('even value :', 164)\n",
      "('even value :', 166)\n",
      "('even value :', 168)\n",
      "('even value :', 170)\n",
      "('even value :', 172)\n",
      "('even value :', 174)\n",
      "('even value :', 176)\n",
      "('even value :', 178)\n",
      "('even value :', 180)\n",
      "('even value :', 182)\n",
      "('even value :', 184)\n",
      "('even value :', 186)\n",
      "('even value :', 188)\n",
      "('even value :', 190)\n",
      "('even value :', 192)\n",
      "('even value :', 194)\n",
      "('even value :', 196)\n",
      "('even value :', 198)\n",
      "thanks for trying code\n"
     ]
    }
   ],
   "source": [
    "print(\"trying to print all prime numbers in between 1-200\")\n",
    "for item in range(2,200):\n",
    "    if item%2==0:\n",
    "        print('even value :', item)\n",
    "else:\n",
    "    print(\"thanks for trying code\")"
   ]
  },
  {
   "cell_type": "code",
   "execution_count": null,
   "metadata": {},
   "outputs": [],
   "source": []
  }
 ],
 "metadata": {
  "kernelspec": {
   "display_name": "Python 2",
   "language": "python",
   "name": "python2"
  },
  "language_info": {
   "codemirror_mode": {
    "name": "ipython",
    "version": 2
   },
   "file_extension": ".py",
   "mimetype": "text/x-python",
   "name": "python",
   "nbconvert_exporter": "python",
   "pygments_lexer": "ipython2",
   "version": "2.7.18"
  }
 },
 "nbformat": 4,
 "nbformat_minor": 2
}
